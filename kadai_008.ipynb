{
  "nbformat": 4,
  "nbformat_minor": 0,
  "metadata": {
    "colab": {
      "provenance": [],
      "authorship_tag": "ABX9TyOtj0KTDQE48Y65Bepv6UTJ",
      "include_colab_link": true
    },
    "kernelspec": {
      "name": "python3",
      "display_name": "Python 3"
    },
    "language_info": {
      "name": "python"
    }
  },
  "cells": [
    {
      "cell_type": "markdown",
      "metadata": {
        "id": "view-in-github",
        "colab_type": "text"
      },
      "source": [
        "<a href=\"https://colab.research.google.com/github/d-watanabe-8308/ichiyasaGitSample/blob/master/kadai_008.ipynb\" target=\"_parent\"><img src=\"https://colab.research.google.com/assets/colab-badge.svg\" alt=\"Open In Colab\"/></a>"
      ]
    },
    {
      "cell_type": "code",
      "execution_count": 24,
      "metadata": {
        "colab": {
          "base_uri": "https://localhost:8080/"
        },
        "id": "sRHI8yImf_FR",
        "outputId": "3384083a-676c-4bd5-c7b5-39d64335787d"
      },
      "outputs": [
        {
          "output_type": "stream",
          "name": "stdout",
          "text": [
            "52\n"
          ]
        }
      ],
      "source": [
        "#変数varが３の倍数の場合はFIzzを出力する\n",
        "\n",
        "#変数varが５の倍数の場合はBuzzを出力する\n",
        "\n",
        "#変数varが3と5の倍数の場合はFizzBuzzを出力する\n",
        "\n",
        "##変数varが上記意外の場合はvarを出力する\n",
        "\n",
        "import random\n",
        "\n",
        "var = random.randint(0, 100)\n",
        "\n",
        "if var % 5 == 0:\n",
        "    print(\"Fizz\")\n",
        "elif var % 3 == 0:\n",
        "    print(\"Buzz\")\n",
        "elif var % 15 == 0:\n",
        "    print(\"FizzBuzz\")\n",
        "else:\n",
        "    print(var)"
      ]
    }
  ]
}